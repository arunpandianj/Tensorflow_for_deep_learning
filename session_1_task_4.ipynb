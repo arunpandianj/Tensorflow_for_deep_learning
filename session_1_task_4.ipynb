{
  "nbformat": 4,
  "nbformat_minor": 0,
  "metadata": {
    "colab": {
      "name": "session_1_task_4.ipynb",
      "provenance": []
    },
    "kernelspec": {
      "name": "python3",
      "display_name": "Python 3"
    }
  },
  "cells": [
    {
      "cell_type": "code",
      "metadata": {
        "id": "zxh_Ny8ascPK"
      },
      "source": [
        "import numpy as np\n",
        "import tensorflow as tf\n",
        "from tensorflow import keras\n",
        "from tensorflow.keras import layers\n",
        "from tensorflow.keras.models import Sequential"
      ],
      "execution_count": 13,
      "outputs": []
    },
    {
      "cell_type": "code",
      "metadata": {
        "id": "geOhiUNOsvoY"
      },
      "source": [
        "model = keras.models.load_model('/content/task2.h5')"
      ],
      "execution_count": 14,
      "outputs": []
    },
    {
      "cell_type": "code",
      "metadata": {
        "execution": {
          "iopub.execute_input": "2020-10-30T01:25:10.383560Z",
          "iopub.status.busy": "2020-10-30T01:25:10.382840Z",
          "iopub.status.idle": "2020-10-30T01:25:10.707551Z",
          "shell.execute_reply": "2020-10-30T01:25:10.706968Z"
        },
        "id": "dC40sRITBSsQ",
        "colab": {
          "base_uri": "https://localhost:8080/"
        },
        "outputId": "e68c5309-4a59-405d-df29-33d247514309"
      },
      "source": [
        "class_names = ['daisy', 'dandelion', 'roses', 'sunflowers', 'tulips']\n",
        "\n",
        "img = keras.preprocessing.image.load_img(\n",
        "    '/content/test2.jpg', target_size=(180, 180)\n",
        ")\n",
        "img_array = keras.preprocessing.image.img_to_array(img)\n",
        "img_array = tf.expand_dims(img_array, 0) # Create a batch\n",
        "\n",
        "predictions = model.predict(img_array)\n",
        "score = tf.nn.softmax(predictions[0])\n",
        "\n",
        "print(\n",
        "    \"This image most likely belongs to {} with a {:.2f} percent confidence.\"\n",
        "    .format(class_names[np.argmax(score)], 100 * np.max(score))\n",
        ")"
      ],
      "execution_count": 19,
      "outputs": [
        {
          "output_type": "stream",
          "text": [
            "This image most likely belongs to roses with a 100.00 percent confidence.\n"
          ],
          "name": "stdout"
        }
      ]
    },
    {
      "cell_type": "code",
      "metadata": {
        "id": "SxNutz4PvD_M"
      },
      "source": [
        ""
      ],
      "execution_count": 15,
      "outputs": []
    }
  ]
}